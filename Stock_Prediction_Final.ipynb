{
  "nbformat": 4,
  "nbformat_minor": 0,
  "metadata": {
    "colab": {
      "name": "Stock Prediction Final.ipynb",
      "provenance": [],
      "collapsed_sections": []
    },
    "kernelspec": {
      "name": "python3",
      "display_name": "Python 3"
    }
  },
  "cells": [
    {
      "cell_type": "code",
      "metadata": {
        "id": "QLspBzK5g6V6"
      },
      "source": [
        "pip install yfinance"
      ],
      "execution_count": null,
      "outputs": []
    },
    {
      "cell_type": "code",
      "metadata": {
        "colab": {
          "base_uri": "https://localhost:8080/"
        },
        "id": "8yPUYeHmjgFX",
        "outputId": "1cabe6b7-6cf3-4c44-9070-aced76fa12c4"
      },
      "source": [
        "pip install matplotlib"
      ],
      "execution_count": null,
      "outputs": [
        {
          "output_type": "stream",
          "text": [
            "Requirement already satisfied: matplotlib in /usr/local/lib/python3.7/dist-packages (3.2.2)\n",
            "Requirement already satisfied: kiwisolver>=1.0.1 in /usr/local/lib/python3.7/dist-packages (from matplotlib) (1.3.1)\n",
            "Requirement already satisfied: cycler>=0.10 in /usr/local/lib/python3.7/dist-packages (from matplotlib) (0.10.0)\n",
            "Requirement already satisfied: python-dateutil>=2.1 in /usr/local/lib/python3.7/dist-packages (from matplotlib) (2.8.1)\n",
            "Requirement already satisfied: numpy>=1.11 in /usr/local/lib/python3.7/dist-packages (from matplotlib) (1.19.5)\n",
            "Requirement already satisfied: pyparsing!=2.0.4,!=2.1.2,!=2.1.6,>=2.0.1 in /usr/local/lib/python3.7/dist-packages (from matplotlib) (2.4.7)\n",
            "Requirement already satisfied: six in /usr/local/lib/python3.7/dist-packages (from cycler>=0.10->matplotlib) (1.15.0)\n"
          ],
          "name": "stdout"
        }
      ]
    },
    {
      "cell_type": "code",
      "metadata": {
        "id": "QdBbcnzSMgjG"
      },
      "source": [
        "import numpy as np\n",
        "import pandas as pd\n",
        "import numpy as ny\n",
        "import smtplib\n",
        "import yfinance as yf\n",
        "from datetime import date\n",
        "import datetime\n",
        "import pytz\n",
        "from email.mime.text import MIMEText\n",
        "import time\n",
        "from sklearn.tree import DecisionTreeRegressor\n",
        "from sklearn.linear_model import LinearRegression\n",
        "from sklearn.model_selection import train_test_split\n",
        "import matplotlib\n",
        "import matplotlib.pyplot as plt\n",
        "plt.style.use('bmh')"
      ],
      "execution_count": null,
      "outputs": []
    },
    {
      "cell_type": "code",
      "metadata": {
        "id": "S3RPpNz9gTCI",
        "colab": {
          "base_uri": "https://localhost:8080/"
        },
        "outputId": "53c3718e-d702-40e2-c259-77a2f1052dcb"
      },
      "source": [
        "x = datetime.datetime.now()\n",
        "print(\"Current Date and Time : \",x)\n",
        "print(\"Curret Date, time and timestamp and Day\", x.strftime('%Y/%m/%d %I:%M:%S %p:%A'))\n",
        "y = datetime.datetime.now() + datetime.timedelta(minutes = 1)\n",
        "yesterday = print(x.day-1)\n",
        "today = print(x.day)\n",
        "month = print(x.month-11)\n",
        "#print(x.month)\n",
        "#print(x.year)\n",
        "#define the ticker symbol\n",
        "tickerSymbol = ['AAPL','ROKU']\n",
        "#tickerSymbol = ['CAKE','TSLA']\n",
        "print(tickerSymbol)"
      ],
      "execution_count": null,
      "outputs": [
        {
          "output_type": "stream",
          "text": [
            "Current Date and Time :  2021-02-27 17:28:15.227413\n",
            "Curret Date, time and timestamp and Day 2021/02/27 05:28:15 PM:Saturday\n",
            "26\n",
            "27\n",
            "-9\n",
            "['AAPL', 'ROKU']\n"
          ],
          "name": "stdout"
        }
      ]
    },
    {
      "cell_type": "code",
      "metadata": {
        "id": "bnFn4GAFUbbx",
        "colab": {
          "base_uri": "https://localhost:8080/",
          "height": 450
        },
        "outputId": "b7f6ea75-4731-4045-d881-da0ea139c49d"
      },
      "source": [
        "position = 0\n",
        "tickerData = yf.Ticker(tickerSymbol[position])\n",
        "df = tickerData.history(period='3000d', start=yesterday, end=today)\n",
        "df"
      ],
      "execution_count": null,
      "outputs": [
        {
          "output_type": "execute_result",
          "data": {
            "text/html": [
              "<div>\n",
              "<style scoped>\n",
              "    .dataframe tbody tr th:only-of-type {\n",
              "        vertical-align: middle;\n",
              "    }\n",
              "\n",
              "    .dataframe tbody tr th {\n",
              "        vertical-align: top;\n",
              "    }\n",
              "\n",
              "    .dataframe thead th {\n",
              "        text-align: right;\n",
              "    }\n",
              "</style>\n",
              "<table border=\"1\" class=\"dataframe\">\n",
              "  <thead>\n",
              "    <tr style=\"text-align: right;\">\n",
              "      <th></th>\n",
              "      <th>Open</th>\n",
              "      <th>High</th>\n",
              "      <th>Low</th>\n",
              "      <th>Close</th>\n",
              "      <th>Volume</th>\n",
              "      <th>Dividends</th>\n",
              "      <th>Stock Splits</th>\n",
              "    </tr>\n",
              "    <tr>\n",
              "      <th>Date</th>\n",
              "      <th></th>\n",
              "      <th></th>\n",
              "      <th></th>\n",
              "      <th></th>\n",
              "      <th></th>\n",
              "      <th></th>\n",
              "      <th></th>\n",
              "    </tr>\n",
              "  </thead>\n",
              "  <tbody>\n",
              "    <tr>\n",
              "      <th>2009-03-30</th>\n",
              "      <td>3.215039</td>\n",
              "      <td>3.230420</td>\n",
              "      <td>3.156589</td>\n",
              "      <td>3.214424</td>\n",
              "      <td>502796000</td>\n",
              "      <td>0.0</td>\n",
              "      <td>0.0</td>\n",
              "    </tr>\n",
              "    <tr>\n",
              "      <th>2009-03-31</th>\n",
              "      <td>3.243955</td>\n",
              "      <td>3.305482</td>\n",
              "      <td>3.230112</td>\n",
              "      <td>3.233804</td>\n",
              "      <td>570080000</td>\n",
              "      <td>0.0</td>\n",
              "      <td>0.0</td>\n",
              "    </tr>\n",
              "    <tr>\n",
              "      <th>2009-04-01</th>\n",
              "      <td>3.202119</td>\n",
              "      <td>3.353165</td>\n",
              "      <td>3.195966</td>\n",
              "      <td>3.343629</td>\n",
              "      <td>589372000</td>\n",
              "      <td>0.0</td>\n",
              "      <td>0.0</td>\n",
              "    </tr>\n",
              "    <tr>\n",
              "      <th>2009-04-02</th>\n",
              "      <td>3.388234</td>\n",
              "      <td>3.530052</td>\n",
              "      <td>3.377159</td>\n",
              "      <td>3.467295</td>\n",
              "      <td>812366800</td>\n",
              "      <td>0.0</td>\n",
              "      <td>0.0</td>\n",
              "    </tr>\n",
              "    <tr>\n",
              "      <th>2009-04-03</th>\n",
              "      <td>3.512825</td>\n",
              "      <td>3.572506</td>\n",
              "      <td>3.492214</td>\n",
              "      <td>3.568199</td>\n",
              "      <td>636241200</td>\n",
              "      <td>0.0</td>\n",
              "      <td>0.0</td>\n",
              "    </tr>\n",
              "    <tr>\n",
              "      <th>...</th>\n",
              "      <td>...</td>\n",
              "      <td>...</td>\n",
              "      <td>...</td>\n",
              "      <td>...</td>\n",
              "      <td>...</td>\n",
              "      <td>...</td>\n",
              "      <td>...</td>\n",
              "    </tr>\n",
              "    <tr>\n",
              "      <th>2021-02-22</th>\n",
              "      <td>128.009995</td>\n",
              "      <td>129.720001</td>\n",
              "      <td>125.599998</td>\n",
              "      <td>126.000000</td>\n",
              "      <td>103607600</td>\n",
              "      <td>0.0</td>\n",
              "      <td>0.0</td>\n",
              "    </tr>\n",
              "    <tr>\n",
              "      <th>2021-02-23</th>\n",
              "      <td>123.760002</td>\n",
              "      <td>126.709999</td>\n",
              "      <td>118.389999</td>\n",
              "      <td>125.860001</td>\n",
              "      <td>157859100</td>\n",
              "      <td>0.0</td>\n",
              "      <td>0.0</td>\n",
              "    </tr>\n",
              "    <tr>\n",
              "      <th>2021-02-24</th>\n",
              "      <td>124.940002</td>\n",
              "      <td>125.559998</td>\n",
              "      <td>122.230003</td>\n",
              "      <td>125.349998</td>\n",
              "      <td>110691500</td>\n",
              "      <td>0.0</td>\n",
              "      <td>0.0</td>\n",
              "    </tr>\n",
              "    <tr>\n",
              "      <th>2021-02-25</th>\n",
              "      <td>124.680000</td>\n",
              "      <td>126.459999</td>\n",
              "      <td>120.540001</td>\n",
              "      <td>120.989998</td>\n",
              "      <td>147306500</td>\n",
              "      <td>0.0</td>\n",
              "      <td>0.0</td>\n",
              "    </tr>\n",
              "    <tr>\n",
              "      <th>2021-02-26</th>\n",
              "      <td>122.589996</td>\n",
              "      <td>124.849998</td>\n",
              "      <td>121.199997</td>\n",
              "      <td>121.260002</td>\n",
              "      <td>164320000</td>\n",
              "      <td>0.0</td>\n",
              "      <td>0.0</td>\n",
              "    </tr>\n",
              "  </tbody>\n",
              "</table>\n",
              "<p>3000 rows × 7 columns</p>\n",
              "</div>"
            ],
            "text/plain": [
              "                  Open        High  ...  Dividends  Stock Splits\n",
              "Date                                ...                         \n",
              "2009-03-30    3.215039    3.230420  ...        0.0           0.0\n",
              "2009-03-31    3.243955    3.305482  ...        0.0           0.0\n",
              "2009-04-01    3.202119    3.353165  ...        0.0           0.0\n",
              "2009-04-02    3.388234    3.530052  ...        0.0           0.0\n",
              "2009-04-03    3.512825    3.572506  ...        0.0           0.0\n",
              "...                ...         ...  ...        ...           ...\n",
              "2021-02-22  128.009995  129.720001  ...        0.0           0.0\n",
              "2021-02-23  123.760002  126.709999  ...        0.0           0.0\n",
              "2021-02-24  124.940002  125.559998  ...        0.0           0.0\n",
              "2021-02-25  124.680000  126.459999  ...        0.0           0.0\n",
              "2021-02-26  122.589996  124.849998  ...        0.0           0.0\n",
              "\n",
              "[3000 rows x 7 columns]"
            ]
          },
          "metadata": {
            "tags": []
          },
          "execution_count": 3
        }
      ]
    },
    {
      "cell_type": "code",
      "metadata": {
        "id": "rcaS0NS_W3hE",
        "colab": {
          "base_uri": "https://localhost:8080/"
        },
        "outputId": "40682903-011e-44e0-c8b3-37b772c84a69"
      },
      "source": [
        "#Get the Number of Trading Days\n",
        "df.shape"
      ],
      "execution_count": null,
      "outputs": [
        {
          "output_type": "execute_result",
          "data": {
            "text/plain": [
              "(3000, 7)"
            ]
          },
          "metadata": {
            "tags": []
          },
          "execution_count": 4
        }
      ]
    },
    {
      "cell_type": "code",
      "metadata": {
        "colab": {
          "base_uri": "https://localhost:8080/",
          "height": 130
        },
        "id": "OWxx7IP5W3oL",
        "outputId": "6634ad4f-c333-48a4-ee4a-cf70db14c7ee"
      },
      "source": [
        "#Visualise the close price data\n",
        "plt.figure(figsize=(16,8)\n",
        "plt.title('Apple Stock')\n",
        "plt.xlabel('Days')\n",
        "plt.ylabel('Close Prize USD($)')\n",
        "plt.plot(df['Close'])\n",
        "plt.show()"
      ],
      "execution_count": null,
      "outputs": [
        {
          "output_type": "error",
          "ename": "SyntaxError",
          "evalue": "ignored",
          "traceback": [
            "\u001b[0;36m  File \u001b[0;32m\"<ipython-input-17-cff9753614e5>\"\u001b[0;36m, line \u001b[0;32m3\u001b[0m\n\u001b[0;31m    plt.xlabel('Days')\u001b[0m\n\u001b[0m      ^\u001b[0m\n\u001b[0;31mSyntaxError\u001b[0m\u001b[0;31m:\u001b[0m invalid syntax\n"
          ]
        }
      ]
    },
    {
      "cell_type": "code",
      "metadata": {
        "id": "yOChXB_NW3ux",
        "colab": {
          "base_uri": "https://localhost:8080/",
          "height": 204
        },
        "outputId": "68a5a1a9-447b-4c19-8cac-65e282a2168f"
      },
      "source": [
        "#Get the close Price\n",
        "df = df[['Close']]\n",
        "df.head(4)"
      ],
      "execution_count": null,
      "outputs": [
        {
          "output_type": "execute_result",
          "data": {
            "text/html": [
              "<div>\n",
              "<style scoped>\n",
              "    .dataframe tbody tr th:only-of-type {\n",
              "        vertical-align: middle;\n",
              "    }\n",
              "\n",
              "    .dataframe tbody tr th {\n",
              "        vertical-align: top;\n",
              "    }\n",
              "\n",
              "    .dataframe thead th {\n",
              "        text-align: right;\n",
              "    }\n",
              "</style>\n",
              "<table border=\"1\" class=\"dataframe\">\n",
              "  <thead>\n",
              "    <tr style=\"text-align: right;\">\n",
              "      <th></th>\n",
              "      <th>Close</th>\n",
              "    </tr>\n",
              "    <tr>\n",
              "      <th>Date</th>\n",
              "      <th></th>\n",
              "    </tr>\n",
              "  </thead>\n",
              "  <tbody>\n",
              "    <tr>\n",
              "      <th>2009-03-30</th>\n",
              "      <td>3.214424</td>\n",
              "    </tr>\n",
              "    <tr>\n",
              "      <th>2009-03-31</th>\n",
              "      <td>3.233804</td>\n",
              "    </tr>\n",
              "    <tr>\n",
              "      <th>2009-04-01</th>\n",
              "      <td>3.343629</td>\n",
              "    </tr>\n",
              "    <tr>\n",
              "      <th>2009-04-02</th>\n",
              "      <td>3.467295</td>\n",
              "    </tr>\n",
              "  </tbody>\n",
              "</table>\n",
              "</div>"
            ],
            "text/plain": [
              "               Close\n",
              "Date                \n",
              "2009-03-30  3.214424\n",
              "2009-03-31  3.233804\n",
              "2009-04-01  3.343629\n",
              "2009-04-02  3.467295"
            ]
          },
          "metadata": {
            "tags": []
          },
          "execution_count": 18
        }
      ]
    },
    {
      "cell_type": "code",
      "metadata": {
        "colab": {
          "base_uri": "https://localhost:8080/",
          "height": 326
        },
        "id": "o4tWbdcFkTZx",
        "outputId": "c6ecb496-ac0d-4480-d78c-7063b9cddd1b"
      },
      "source": [
        "#Create Variable to Predict the 'x' days out into the future\n",
        "future_days = 25\n",
        "#Create a new column(target) Shifted 'x' units/days up\n",
        "df['prediction']= df[['Close']].shift(-future_days)\n",
        "df.tail(4)"
      ],
      "execution_count": null,
      "outputs": [
        {
          "output_type": "stream",
          "text": [
            "/usr/local/lib/python3.7/dist-packages/ipykernel_launcher.py:4: SettingWithCopyWarning: \n",
            "A value is trying to be set on a copy of a slice from a DataFrame.\n",
            "Try using .loc[row_indexer,col_indexer] = value instead\n",
            "\n",
            "See the caveats in the documentation: https://pandas.pydata.org/pandas-docs/stable/user_guide/indexing.html#returning-a-view-versus-a-copy\n",
            "  after removing the cwd from sys.path.\n"
          ],
          "name": "stderr"
        },
        {
          "output_type": "execute_result",
          "data": {
            "text/html": [
              "<div>\n",
              "<style scoped>\n",
              "    .dataframe tbody tr th:only-of-type {\n",
              "        vertical-align: middle;\n",
              "    }\n",
              "\n",
              "    .dataframe tbody tr th {\n",
              "        vertical-align: top;\n",
              "    }\n",
              "\n",
              "    .dataframe thead th {\n",
              "        text-align: right;\n",
              "    }\n",
              "</style>\n",
              "<table border=\"1\" class=\"dataframe\">\n",
              "  <thead>\n",
              "    <tr style=\"text-align: right;\">\n",
              "      <th></th>\n",
              "      <th>Close</th>\n",
              "      <th>prediction</th>\n",
              "    </tr>\n",
              "    <tr>\n",
              "      <th>Date</th>\n",
              "      <th></th>\n",
              "      <th></th>\n",
              "    </tr>\n",
              "  </thead>\n",
              "  <tbody>\n",
              "    <tr>\n",
              "      <th>2021-02-23</th>\n",
              "      <td>125.860001</td>\n",
              "      <td>NaN</td>\n",
              "    </tr>\n",
              "    <tr>\n",
              "      <th>2021-02-24</th>\n",
              "      <td>125.349998</td>\n",
              "      <td>NaN</td>\n",
              "    </tr>\n",
              "    <tr>\n",
              "      <th>2021-02-25</th>\n",
              "      <td>120.989998</td>\n",
              "      <td>NaN</td>\n",
              "    </tr>\n",
              "    <tr>\n",
              "      <th>2021-02-26</th>\n",
              "      <td>121.260002</td>\n",
              "      <td>NaN</td>\n",
              "    </tr>\n",
              "  </tbody>\n",
              "</table>\n",
              "</div>"
            ],
            "text/plain": [
              "                 Close  prediction\n",
              "Date                              \n",
              "2021-02-23  125.860001         NaN\n",
              "2021-02-24  125.349998         NaN\n",
              "2021-02-25  120.989998         NaN\n",
              "2021-02-26  121.260002         NaN"
            ]
          },
          "metadata": {
            "tags": []
          },
          "execution_count": 19
        }
      ]
    },
    {
      "cell_type": "code",
      "metadata": {
        "colab": {
          "base_uri": "https://localhost:8080/"
        },
        "id": "MXYV-sywkt75",
        "outputId": "a8c122ed-d14b-4785-e9cb-2c6e6cb632b7"
      },
      "source": [
        "#Create the feature data set (X) and convert it to a numpy array and remove the last 'x' rows\n",
        "X = np.array(df.drop(['prediction'], 1))[:-future_days]\n",
        "print(X)"
      ],
      "execution_count": null,
      "outputs": [
        {
          "output_type": "stream",
          "text": [
            "[[  3.21442366]\n",
            " [  3.23380423]\n",
            " [  3.34362888]\n",
            " ...\n",
            " [127.63926697]\n",
            " [131.83299255]\n",
            " [136.66577148]]\n"
          ],
          "name": "stdout"
        }
      ]
    },
    {
      "cell_type": "code",
      "metadata": {
        "colab": {
          "base_uri": "https://localhost:8080/"
        },
        "id": "EIEjujPDlJCk",
        "outputId": "308848dc-2952-42d5-9692-c4befe74f018"
      },
      "source": [
        "#Create the target data set (y) and convert it toa numpy array and fet all of the target values except the last 'X' rows/days\n",
        "y = np.array(df['prediction'])[:-future_days]\n",
        "print(y)"
      ],
      "execution_count": null,
      "outputs": [
        {
          "output_type": "stream",
          "text": [
            "[  4.08255482   4.07609606   3.9702704  ... 125.34999847 120.98999786\n",
            " 121.26000214]\n"
          ],
          "name": "stdout"
        }
      ]
    },
    {
      "cell_type": "code",
      "metadata": {
        "id": "eECiJpoCllkY"
      },
      "source": [
        "#Split the data into 75% trainging and 25% Testing\n",
        "x_train, x_test, y_train,y_test = train_test_split(X,y,test_size= 0.25)"
      ],
      "execution_count": null,
      "outputs": []
    },
    {
      "cell_type": "code",
      "metadata": {
        "id": "CG2S-n1zlzeo"
      },
      "source": [
        "#Create models\n",
        "#Create the decision tree regressor model\n",
        "tree = DecisionTreeRegressor().fit(x_train, y_train)\n",
        "#Create the linear regression Model\n",
        "lr = LinearRegression().fit(x_train,y_train)"
      ],
      "execution_count": null,
      "outputs": []
    },
    {
      "cell_type": "code",
      "metadata": {
        "colab": {
          "base_uri": "https://localhost:8080/"
        },
        "id": "wzYjxKxqmJOo",
        "outputId": "1c549405-81d2-4ef5-ce7e-0ae2b57f99c9"
      },
      "source": [
        "#Get the last 'x' rows of the feature data set\n",
        "x_future = df.drop(['prediction'],1)[:-future_days]\n",
        "x_future = x_future.tail(future_days)\n",
        "x_future = np.array(x_future)\n",
        "print(x_future)"
      ],
      "execution_count": null,
      "outputs": [
        {
          "output_type": "stream",
          "text": [
            "[[127.6891861 ]\n",
            " [127.61929321]\n",
            " [128.50796509]\n",
            " [126.47101593]\n",
            " [128.03866577]\n",
            " [131.68322754]\n",
            " [130.76460266]\n",
            " [131.77308655]\n",
            " [136.48605347]\n",
            " [134.66876221]\n",
            " [133.52047729]\n",
            " [132.49201965]\n",
            " [129.21691895]\n",
            " [130.81451416]\n",
            " [126.41110229]\n",
            " [130.72465515]\n",
            " [131.85296631]\n",
            " [128.78755188]\n",
            " [128.6078186 ]\n",
            " [130.69470215]\n",
            " [128.71766663]\n",
            " [126.95029449]\n",
            " [127.63926697]\n",
            " [131.83299255]\n",
            " [136.66577148]]\n"
          ],
          "name": "stdout"
        }
      ]
    },
    {
      "cell_type": "code",
      "metadata": {
        "colab": {
          "base_uri": "https://localhost:8080/"
        },
        "id": "XTDrRHSsmmw8",
        "outputId": "11a85dc9-c846-406f-ab73-402ac6c57a9c"
      },
      "source": [
        "#Show the model tree Prediction\n",
        "tree_prediction = tree.predict(x_future)\n",
        "print(tree_prediction)\n",
        "print()\n",
        "#Show the model Linear regression Prediction\n",
        "lr_prediction = lr.predict(x_future)\n",
        "print(lr_prediction)"
      ],
      "execution_count": null,
      "outputs": [
        {
          "output_type": "stream",
          "text": [
            "[138.86250305 142.70675659 142.94639587 135.13000488 136.88545227\n",
            " 120.98999786 133.93984985 120.98999786 133.74015808 137.18499756\n",
            " 136.75999451 136.91000366 136.00999451 135.38999939 135.13000488\n",
            " 129.86999512 133.19000244 112.79655457 129.71000671 129.86999512\n",
            " 112.79655457 125.86000061 142.70675659 120.98999786 121.26000214]\n",
            "\n",
            "[133.42899426 133.35579731 134.28647952 132.15323734 133.79499494\n",
            " 137.61184666 136.64979548 137.70595359 142.64171734 140.73851698\n",
            " 139.53594902 138.45887293 135.02894786 136.70206645 132.09049139\n",
            " 136.60795952 137.78960952 134.57928326 134.39105342 136.57659055\n",
            " 134.50609431 132.65517291 133.37671529 137.76869154 142.8299312 ]\n"
          ],
          "name": "stdout"
        }
      ]
    },
    {
      "cell_type": "code",
      "metadata": {
        "colab": {
          "base_uri": "https://localhost:8080/",
          "height": 635
        },
        "id": "lVgBoqpYm_v5",
        "outputId": "44928ecc-6c67-4802-cb7d-854f40f4c71d"
      },
      "source": [
        "#Visualize the DATA\n",
        "predictions = tree_prediction\n",
        "\n",
        "valid = df[X.shape[0]:]\n",
        "valid['Predictions'] = predictions\n",
        "plt.figure(figsize=(16,8))\n",
        "plt.title('Model')\n",
        "plt.xlabel('Days')\n",
        "plt.ylabel('Close Price USD($)')\n",
        "plt.plot(df['Close'])\n",
        "plt.plot(valid[['Close','Predictions']])\n",
        "plt.legend(['Orig','Val', 'Pred'])\n",
        "plt.show()"
      ],
      "execution_count": null,
      "outputs": [
        {
          "output_type": "stream",
          "text": [
            "/usr/local/lib/python3.7/dist-packages/ipykernel_launcher.py:5: SettingWithCopyWarning: \n",
            "A value is trying to be set on a copy of a slice from a DataFrame.\n",
            "Try using .loc[row_indexer,col_indexer] = value instead\n",
            "\n",
            "See the caveats in the documentation: https://pandas.pydata.org/pandas-docs/stable/user_guide/indexing.html#returning-a-view-versus-a-copy\n",
            "  \"\"\"\n"
          ],
          "name": "stderr"
        },
        {
          "output_type": "display_data",
          "data": {
            "image/png": "[encoded data removed]",
            "text/plain": [
              "<Figure size 1152x576 with 1 Axes>"
            ]
          },
          "metadata": {
            "tags": [],
            "needs_background": "light"
          }
        }
      ]
    },
    {
      "cell_type": "code",
      "metadata": {
        "colab": {
          "base_uri": "https://localhost:8080/",
          "height": 635
        },
        "id": "JlO-clumoKEK",
        "outputId": "81df84f7-32d5-4b86-9443-f768006545d0"
      },
      "source": [
        "#Visualize the DATA\n",
        "predictions = lr_prediction\n",
        "\n",
        "valid = df[X.shape[0]:]\n",
        "valid['Predictions'] = predictions\n",
        "plt.figure(figsize=(16,8))\n",
        "plt.title('Model')\n",
        "plt.xlabel('Days')\n",
        "plt.ylabel('Close Price USD($)')\n",
        "plt.plot(df['Close'])\n",
        "plt.plot(valid[['Close','Predictions']])\n",
        "plt.legend(['Orig','Val', 'Pred'])\n",
        "plt.show()"
      ],
      "execution_count": null,
      "outputs": [
        {
          "output_type": "stream",
          "text": [
            "/usr/local/lib/python3.7/dist-packages/ipykernel_launcher.py:5: SettingWithCopyWarning: \n",
            "A value is trying to be set on a copy of a slice from a DataFrame.\n",
            "Try using .loc[row_indexer,col_indexer] = value instead\n",
            "\n",
            "See the caveats in the documentation: https://pandas.pydata.org/pandas-docs/stable/user_guide/indexing.html#returning-a-view-versus-a-copy\n",
            "  \"\"\"\n"
          ],
          "name": "stderr"
        },
        {
          "output_type": "display_data",
          "data": {
            "image/png": "[encoded data removed]",
            "text/plain": [
              "<Figure size 1152x576 with 1 Axes>"
            ]
          },
          "metadata": {
            "tags": [],
            "needs_background": "light"
          }
        }
      ]
    }
  ]
}